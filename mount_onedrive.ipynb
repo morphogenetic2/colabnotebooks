{
  "nbformat": 4,
  "nbformat_minor": 0,
  "metadata": {
    "colab": {
      "name": "mount onedrive.ipynb",
      "provenance": [],
      "collapsed_sections": [],
      "authorship_tag": "ABX9TyPiwALlJMgD/zPAxsuL9ZxQ",
      "include_colab_link": true
    },
    "kernelspec": {
      "name": "python3",
      "display_name": "Python 3"
    },
    "language_info": {
      "name": "python"
    }
  },
  "cells": [
    {
      "cell_type": "markdown",
      "metadata": {
        "id": "view-in-github",
        "colab_type": "text"
      },
      "source": [
        "<a href=\"https://colab.research.google.com/github/morphogenetic2/colabnotebooks/blob/main/mount_onedrive.ipynb\" target=\"_parent\"><img src=\"https://colab.research.google.com/assets/colab-badge.svg\" alt=\"Open In Colab\"/></a>"
      ]
    },
    {
      "cell_type": "markdown",
      "metadata": {
        "id": "kGb62k7k-L_X"
      },
      "source": [
        "Tutorial adapted from https://www.youtube.com/watch?v=U6YPgARhRzA\n",
        "\n",
        "The first step is to download a copy of rclone from https://downloads.rclone.org **in your system**, unzip it and execute in a terminal `rclone authorize \"onedrive\"`, log into your account and copy the access token. Then run the following cell to install `rclone` in Colab.\n"
      ]
    },
    {
      "cell_type": "code",
      "metadata": {
        "id": "rxZFBYT97u7Y"
      },
      "source": [
        "!wget https://downloads.rclone.org/v1.56.0/rclone-v1.56.0-linux-amd64.deb\n",
        "!apt install ./rclone-v1.56.0-linux-amd64.deb"
      ],
      "execution_count": null,
      "outputs": []
    },
    {
      "cell_type": "markdown",
      "metadata": {
        "id": "3Aa8iFFpfMXU"
      },
      "source": [
        "In the next step, in rclone config, select `n` for new remote, name it `onedrive` and check the number in the list corresponding to onedrive (`26` in the current version). Then press enter twice for `client_id` and `client_secret`, then `n` for advanced config and `n` for auto config.\n",
        "Then paste the access token code, and select number 1 for \"Onedrive personal\" or \"Onedrive business\"\n",
        "Then, in \"found drives\" check that the configuration is ok, depending on the one you want to mount. Then select `y` twice and `q` to quit the configuration."
      ]
    },
    {
      "cell_type": "code",
      "metadata": {
        "id": "4Bu5pyRi8JIe"
      },
      "source": [
        "!rclone config"
      ],
      "execution_count": null,
      "outputs": []
    },
    {
      "cell_type": "markdown",
      "metadata": {
        "id": "A9hDtIGFibgM"
      },
      "source": [
        "Then, you can mount the drive in `\\content\\gdrive` to use it seamlessly in the ZeroCostDL4Mic notebooks"
      ]
    },
    {
      "cell_type": "code",
      "metadata": {
        "id": "vmB5dk1X9wfJ"
      },
      "source": [
        "#@markdown ###Where do you want to mount your onedrive? (keep `gdrive` for compatibility): \n",
        "import os\n",
        "import sys\n",
        "import subprocess\n",
        "folder_name = \"gdrive\" #@param {type:\"string\"}\n",
        "folder=str('/content/'+folder_name)\n",
        "print(\"Mounting in\",folder)\n",
        "os.mkdir(folder)\n",
        "os.system(\"nohup rclone --vfs-cache-mode writes mount onedrive: '%s' &\" % folder)"
      ],
      "execution_count": null,
      "outputs": []
    }
  ]
}